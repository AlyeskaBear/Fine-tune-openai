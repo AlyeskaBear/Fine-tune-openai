{
 "cells": [
  {
   "cell_type": "markdown",
   "id": "0e20a264",
   "metadata": {},
   "source": [
    "Install the `openai` package along with its required dependencies."
   ]
  },
  {
   "cell_type": "code",
   "execution_count": 1,
   "id": "3664a59d",
   "metadata": {},
   "outputs": [
    {
     "name": "stdout",
     "output_type": "stream",
     "text": [
      "Collecting openai>=1.95\n",
      "  Downloading openai-1.97.1-py3-none-any.whl.metadata (29 kB)\n",
      "Collecting pydantic-core>=2.16.3\n",
      "  Downloading pydantic_core-2.36.0-cp310-cp310-manylinux_2_17_x86_64.manylinux2014_x86_64.whl.metadata (6.8 kB)\n",
      "Collecting pydantic>=2.6\n",
      "  Downloading pydantic-2.11.7-py3-none-any.whl.metadata (67 kB)\n",
      "\u001b[2K     \u001b[90m━━━━━━━━━━━━━━━━━━━━━━━━━━━━━━━━━━━━━━━━\u001b[0m \u001b[32m68.0/68.0 kB\u001b[0m \u001b[31m2.1 MB/s\u001b[0m eta \u001b[36m0:00:00\u001b[0m\n",
      "\u001b[?25hCollecting anyio<5,>=3.5.0 (from openai>=1.95)\n",
      "  Downloading anyio-4.9.0-py3-none-any.whl.metadata (4.7 kB)\n",
      "Collecting distro<2,>=1.7.0 (from openai>=1.95)\n",
      "  Downloading distro-1.9.0-py3-none-any.whl.metadata (6.8 kB)\n",
      "Collecting httpx<1,>=0.23.0 (from openai>=1.95)\n",
      "  Downloading httpx-0.28.1-py3-none-any.whl.metadata (7.1 kB)\n",
      "Collecting jiter<1,>=0.4.0 (from openai>=1.95)\n",
      "  Downloading jiter-0.10.0-cp310-cp310-manylinux_2_17_x86_64.manylinux2014_x86_64.whl.metadata (5.2 kB)\n",
      "Collecting sniffio (from openai>=1.95)\n",
      "  Downloading sniffio-1.3.1-py3-none-any.whl.metadata (3.9 kB)\n",
      "Collecting tqdm>4 (from openai>=1.95)\n",
      "  Downloading tqdm-4.67.1-py3-none-any.whl.metadata (57 kB)\n",
      "\u001b[2K     \u001b[90m━━━━━━━━━━━━━━━━━━━━━━━━━━━━━━━━━━━━━━━━\u001b[0m \u001b[32m57.7/57.7 kB\u001b[0m \u001b[31m1.7 MB/s\u001b[0m eta \u001b[36m0:00:00\u001b[0m\n",
      "\u001b[?25hRequirement already satisfied: typing-extensions<5,>=4.11 in /opt/python/3.10.12/lib/python3.10/site-packages (from openai>=1.95) (4.11.0)\n",
      "Collecting typing-extensions<5,>=4.11 (from openai>=1.95)\n",
      "  Downloading typing_extensions-4.14.1-py3-none-any.whl.metadata (3.0 kB)\n",
      "Collecting annotated-types>=0.6.0 (from pydantic>=2.6)\n",
      "  Downloading annotated_types-0.7.0-py3-none-any.whl.metadata (15 kB)\n",
      "Collecting pydantic-core>=2.16.3\n",
      "  Downloading pydantic_core-2.33.2-cp310-cp310-manylinux_2_17_x86_64.manylinux2014_x86_64.whl.metadata (6.8 kB)\n",
      "Collecting typing-inspection>=0.4.0 (from pydantic>=2.6)\n",
      "  Downloading typing_inspection-0.4.1-py3-none-any.whl.metadata (2.6 kB)\n",
      "Requirement already satisfied: exceptiongroup>=1.0.2 in /opt/python/3.10.12/lib/python3.10/site-packages (from anyio<5,>=3.5.0->openai>=1.95) (1.2.1)\n",
      "Collecting idna>=2.8 (from anyio<5,>=3.5.0->openai>=1.95)\n",
      "  Downloading idna-3.10-py3-none-any.whl.metadata (10 kB)\n",
      "Collecting certifi (from httpx<1,>=0.23.0->openai>=1.95)\n",
      "  Downloading certifi-2025.7.14-py3-none-any.whl.metadata (2.4 kB)\n",
      "Collecting httpcore==1.* (from httpx<1,>=0.23.0->openai>=1.95)\n",
      "  Downloading httpcore-1.0.9-py3-none-any.whl.metadata (21 kB)\n",
      "Collecting h11>=0.16 (from httpcore==1.*->httpx<1,>=0.23.0->openai>=1.95)\n",
      "  Downloading h11-0.16.0-py3-none-any.whl.metadata (8.3 kB)\n",
      "Downloading openai-1.97.1-py3-none-any.whl (764 kB)\n",
      "\u001b[2K   \u001b[90m━━━━━━━━━━━━━━━━━━━━━━━━━━━━━━━━━━━━━━━━\u001b[0m \u001b[32m764.4/764.4 kB\u001b[0m \u001b[31m19.4 MB/s\u001b[0m eta \u001b[36m0:00:00\u001b[0m00:01\u001b[0m\n",
      "\u001b[?25hDownloading pydantic-2.11.7-py3-none-any.whl (444 kB)\n",
      "\u001b[2K   \u001b[90m━━━━━━━━━━━━━━━━━━━━━━━━━━━━━━━━━━━━━━━━\u001b[0m \u001b[32m444.8/444.8 kB\u001b[0m \u001b[31m8.3 MB/s\u001b[0m eta \u001b[36m0:00:00\u001b[0m:00:01\u001b[0m\n",
      "\u001b[?25hDownloading pydantic_core-2.33.2-cp310-cp310-manylinux_2_17_x86_64.manylinux2014_x86_64.whl (2.0 MB)\n",
      "\u001b[2K   \u001b[90m━━━━━━━━━━━━━━━━━━━━━━━━━━━━━━━━━━━━━━━━\u001b[0m \u001b[32m2.0/2.0 MB\u001b[0m \u001b[31m25.7 MB/s\u001b[0m eta \u001b[36m0:00:00\u001b[0m:00:01\u001b[0m\n",
      "\u001b[?25hDownloading annotated_types-0.7.0-py3-none-any.whl (13 kB)\n",
      "Downloading anyio-4.9.0-py3-none-any.whl (100 kB)\n",
      "\u001b[2K   \u001b[90m━━━━━━━━━━━━━━━━━━━━━━━━━━━━━━━━━━━━━━━━\u001b[0m \u001b[32m100.9/100.9 kB\u001b[0m \u001b[31m1.9 MB/s\u001b[0m eta \u001b[36m0:00:00\u001b[0mta \u001b[36m0:00:01\u001b[0m\n",
      "\u001b[?25hDownloading distro-1.9.0-py3-none-any.whl (20 kB)\n",
      "Downloading httpx-0.28.1-py3-none-any.whl (73 kB)\n",
      "\u001b[2K   \u001b[90m━━━━━━━━━━━━━━━━━━━━━━━━━━━━━━━━━━━━━━━━\u001b[0m \u001b[32m73.5/73.5 kB\u001b[0m \u001b[31m1.2 MB/s\u001b[0m eta \u001b[36m0:00:00\u001b[0m:00:01\u001b[0m\n",
      "\u001b[?25hDownloading httpcore-1.0.9-py3-none-any.whl (78 kB)\n",
      "\u001b[2K   \u001b[90m━━━━━━━━━━━━━━━━━━━━━━━━━━━━━━━━━━━━━━━━\u001b[0m \u001b[32m78.8/78.8 kB\u001b[0m \u001b[31m1.5 MB/s\u001b[0m eta \u001b[36m0:00:00\u001b[0meta \u001b[36m0:00:01\u001b[0m\n",
      "\u001b[?25hDownloading jiter-0.10.0-cp310-cp310-manylinux_2_17_x86_64.manylinux2014_x86_64.whl (352 kB)\n",
      "\u001b[2K   \u001b[90m━━━━━━━━━━━━━━━━━━━━━━━━━━━━━━━━━━━━━━━━\u001b[0m \u001b[32m352.5/352.5 kB\u001b[0m \u001b[31m8.0 MB/s\u001b[0m eta \u001b[36m0:00:00\u001b[0m:00:01\u001b[0m\n",
      "\u001b[?25hDownloading sniffio-1.3.1-py3-none-any.whl (10 kB)\n",
      "Downloading tqdm-4.67.1-py3-none-any.whl (78 kB)\n",
      "\u001b[2K   \u001b[90m━━━━━━━━━━━━━━━━━━━━━━━━━━━━━━━━━━━━━━━━\u001b[0m \u001b[32m78.5/78.5 kB\u001b[0m \u001b[31m2.2 MB/s\u001b[0m eta \u001b[36m0:00:00\u001b[0m\n",
      "\u001b[?25hDownloading typing_extensions-4.14.1-py3-none-any.whl (43 kB)\n",
      "\u001b[2K   \u001b[90m━━━━━━━━━━━━━━━━━━━━━━━━━━━━━━━━━━━━━━━━\u001b[0m \u001b[32m43.9/43.9 kB\u001b[0m \u001b[31m1.4 MB/s\u001b[0m eta \u001b[36m0:00:00\u001b[0m\n",
      "\u001b[?25hDownloading typing_inspection-0.4.1-py3-none-any.whl (14 kB)\n",
      "Downloading idna-3.10-py3-none-any.whl (70 kB)\n",
      "\u001b[2K   \u001b[90m━━━━━━━━━━━━━━━━━━━━━━━━━━━━━━━━━━━━━━━━\u001b[0m \u001b[32m70.4/70.4 kB\u001b[0m \u001b[31m2.4 MB/s\u001b[0m eta \u001b[36m0:00:00\u001b[0m\n",
      "\u001b[?25hDownloading certifi-2025.7.14-py3-none-any.whl (162 kB)\n",
      "\u001b[2K   \u001b[90m━━━━━━━━━━━━━━━━━━━━━━━━━━━━━━━━━━━━━━━━\u001b[0m \u001b[32m162.7/162.7 kB\u001b[0m \u001b[31m2.6 MB/s\u001b[0m eta \u001b[36m0:00:00\u001b[0mta \u001b[36m0:00:01\u001b[0m\n",
      "\u001b[?25hDownloading h11-0.16.0-py3-none-any.whl (37 kB)\n",
      "Installing collected packages: typing-extensions, tqdm, sniffio, jiter, idna, h11, distro, certifi, annotated-types, typing-inspection, pydantic-core, httpcore, anyio, pydantic, httpx, openai\n",
      "Successfully installed annotated-types-0.7.0 anyio-4.9.0 certifi-2025.7.14 distro-1.9.0 h11-0.16.0 httpcore-1.0.9 httpx-0.28.1 idna-3.10 jiter-0.10.0 openai-1.97.1 pydantic-2.11.7 pydantic-core-2.33.2 sniffio-1.3.1 tqdm-4.67.1 typing-extensions-4.14.1 typing-inspection-0.4.1\n",
      "\n",
      "\u001b[1m[\u001b[0m\u001b[34;49mnotice\u001b[0m\u001b[1;39;49m]\u001b[0m\u001b[39;49m A new release of pip is available: \u001b[0m\u001b[31;49m24.0\u001b[0m\u001b[39;49m -> \u001b[0m\u001b[32;49m25.1.1\u001b[0m\n",
      "\u001b[1m[\u001b[0m\u001b[34;49mnotice\u001b[0m\u001b[1;39;49m]\u001b[0m\u001b[39;49m To update, run: \u001b[0m\u001b[32;49m/opt/python/3.10.12/bin/python3 -m pip install --upgrade pip\u001b[0m\n",
      "Note: you may need to restart the kernel to use updated packages.\n",
      "Collecting attrs\n",
      "  Downloading attrs-25.3.0-py3-none-any.whl.metadata (10 kB)\n",
      "Downloading attrs-25.3.0-py3-none-any.whl (63 kB)\n",
      "\u001b[2K   \u001b[90m━━━━━━━━━━━━━━━━━━━━━━━━━━━━━━━━━━━━━━━━\u001b[0m \u001b[32m63.8/63.8 kB\u001b[0m \u001b[31m1.5 MB/s\u001b[0m eta \u001b[36m0:00:00\u001b[0mta \u001b[36m0:00:01\u001b[0m\n",
      "\u001b[?25hInstalling collected packages: attrs\n",
      "Successfully installed attrs-25.3.0\n",
      "\n",
      "\u001b[1m[\u001b[0m\u001b[34;49mnotice\u001b[0m\u001b[1;39;49m]\u001b[0m\u001b[39;49m A new release of pip is available: \u001b[0m\u001b[31;49m24.0\u001b[0m\u001b[39;49m -> \u001b[0m\u001b[32;49m25.1.1\u001b[0m\n",
      "\u001b[1m[\u001b[0m\u001b[34;49mnotice\u001b[0m\u001b[1;39;49m]\u001b[0m\u001b[39;49m To update, run: \u001b[0m\u001b[32;49m/opt/python/3.10.12/bin/python3 -m pip install --upgrade pip\u001b[0m\n",
      "Note: you may need to restart the kernel to use updated packages.\n"
     ]
    }
   ],
   "source": [
    "%pip install --upgrade \"openai>=1.95\" \"pydantic-core>=2.16.3\" \"pydantic>=2.6\" \n",
    "%pip install --upgrade \"attrs\""
   ]
  },
  {
   "cell_type": "markdown",
   "id": "801027d6",
   "metadata": {},
   "source": [
    "Locate the paths to the three installed packages."
   ]
  },
  {
   "cell_type": "code",
   "execution_count": 2,
   "id": "d7c8b76d",
   "metadata": {},
   "outputs": [
    {
     "name": "stdout",
     "output_type": "stream",
     "text": [
      "Name: openai\n",
      "Version: 1.97.1\n",
      "Summary: The official Python library for the openai API\n",
      "Home-page: \n",
      "Author: \n",
      "Author-email: OpenAI <support@openai.com>\n",
      "License: Apache-2.0\n",
      "Location: /cloud/lib/lib/python3.10/site-packages\n",
      "Requires: anyio, distro, httpx, jiter, pydantic, sniffio, tqdm, typing-extensions\n",
      "Required-by: \n",
      "---\n",
      "Name: pydantic_core\n",
      "Version: 2.33.2\n",
      "Summary: Core functionality for Pydantic validation and serialization\n",
      "Home-page: https://github.com/pydantic/pydantic-core\n",
      "Author: \n",
      "Author-email: Samuel Colvin <s@muelcolvin.com>, Adrian Garcia Badaracco <1755071+adriangb@users.noreply.github.com>, David Montague <david@pydantic.dev>, David Hewitt <mail@davidhewitt.dev>, Sydney Runkle <sydneymarierunkle@gmail.com>, Victorien Plot <contact@vctrn.dev>\n",
      "License: MIT\n",
      "Location: /cloud/lib/lib/python3.10/site-packages\n",
      "Requires: typing-extensions\n",
      "Required-by: pydantic\n",
      "---\n",
      "Name: pydantic\n",
      "Version: 2.11.7\n",
      "Summary: Data validation using Python type hints\n",
      "Home-page: \n",
      "Author: \n",
      "Author-email: Samuel Colvin <s@muelcolvin.com>, Eric Jolibois <em.jolibois@gmail.com>, Hasan Ramezani <hasan.r67@gmail.com>, Adrian Garcia Badaracco <1755071+adriangb@users.noreply.github.com>, Terrence Dorsey <terry@pydantic.dev>, David Montague <david@pydantic.dev>, Serge Matveenko <lig@countzero.co>, Marcelo Trylesinski <marcelotryle@gmail.com>, Sydney Runkle <sydneymarierunkle@gmail.com>, David Hewitt <mail@davidhewitt.io>, Alex Hall <alex.mojaki@gmail.com>, Victorien Plot <contact@vctrn.dev>\n",
      "License: \n",
      "Location: /cloud/lib/lib/python3.10/site-packages\n",
      "Requires: annotated-types, pydantic-core, typing-extensions, typing-inspection\n",
      "Required-by: openai\n",
      "---\n",
      "Name: attrs\n",
      "Version: 25.3.0\n",
      "Summary: Classes Without Boilerplate\n",
      "Home-page: \n",
      "Author: \n",
      "Author-email: Hynek Schlawack <hs@ox.cx>\n",
      "License: \n",
      "Location: /cloud/lib/lib/python3.10/site-packages\n",
      "Requires: \n",
      "Required-by: \n",
      "Note: you may need to restart the kernel to use updated packages.\n"
     ]
    }
   ],
   "source": [
    "%pip show openai pydantic-core pydantic attrs  "
   ]
  },
  {
   "cell_type": "markdown",
   "id": "7f39cdc9",
   "metadata": {},
   "source": [
    "Add the path to `sys.path`; then list the full contents of `sys.path`, which can help diagnose missing modules or packages."
   ]
  },
  {
   "cell_type": "code",
   "execution_count": 3,
   "id": "985030cc",
   "metadata": {},
   "outputs": [
    {
     "name": "stdout",
     "output_type": "stream",
     "text": [
      "['/opt/python/3.10.12/lib/python310.zip', '/opt/python/3.10.12/lib/python3.10', '/opt/python/3.10.12/lib/python3.10/lib-dynload', '', '/opt/python/3.10.12/lib/python3.10/site-packages', '/cloud/lib/lib/python3.10/site-packages']\n"
     ]
    }
   ],
   "source": [
    "import sys\n",
    "sys.path.append(\"/cloud/lib/lib/python3.10/site-packages\")\n",
    "print(sys.path)"
   ]
  },
  {
   "cell_type": "markdown",
   "id": "a42a61c7",
   "metadata": {},
   "source": [
    "Retrieve your OpenAI API key from your account dashboard at https://platform.openai.com/. If you don’t already have a key, generate one there."
   ]
  },
  {
   "cell_type": "code",
   "execution_count": 1,
   "id": "359d5377",
   "metadata": {},
   "outputs": [],
   "source": [
    "# Replace \"your_api_key_here\" with your actual API key\n",
    "api_key =\"your_api_key_here\""
   ]
  },
  {
   "cell_type": "markdown",
   "id": "e3d5f0af",
   "metadata": {},
   "source": [
    "Convert the csv data file into a jsonl file for training purposes"
   ]
  },
  {
   "cell_type": "code",
   "execution_count": 5,
   "id": "aa49e371",
   "metadata": {},
   "outputs": [
    {
     "name": "stdout",
     "output_type": "stream",
     "text": [
      "Wrote chat‑formatted JSONL to training_data.jsonl\n"
     ]
    }
   ],
   "source": [
    "import csv\n",
    "import json\n",
    "\n",
    "INPUT_CSV  = \"qna_chitchat_friendly.csv\"\n",
    "OUTPUT_JL  = \"training_data.jsonl\"\n",
    "\n",
    "SYSTEM_PROMPT = \"You are a friendly assistant.\"\n",
    "\n",
    "with open(INPUT_CSV, newline=\"\", encoding=\"utf-8\") as csvfile, \\\n",
    "     open(OUTPUT_JL,  \"w\",      encoding=\"utf-8\") as jsonlfile:\n",
    "\n",
    "    reader = csv.DictReader(csvfile)\n",
    "    for row in reader:\n",
    "        example = {\n",
    "            \"messages\": [\n",
    "                {\"role\": \"system\",    \"content\": SYSTEM_PROMPT},\n",
    "                {\"role\": \"user\",      \"content\": row[\"Question\"].strip()},\n",
    "                {\"role\": \"assistant\", \"content\": row[\"Answer\"].strip()}\n",
    "            ]\n",
    "        }\n",
    "        jsonlfile.write(json.dumps(example, ensure_ascii=False) + \"\\n\")\n",
    "\n",
    "print(\"Wrote chat‑formatted JSONL to\", OUTPUT_JL)"
   ]
  },
  {
   "cell_type": "markdown",
   "id": "1dbe0b4f",
   "metadata": {},
   "source": [
    "Upload the `training_data.jsonl` file to OpenAI and obtain the assigned file id."
   ]
  },
  {
   "cell_type": "code",
   "execution_count": 6,
   "id": "48d5647d",
   "metadata": {},
   "outputs": [
    {
     "name": "stdout",
     "output_type": "stream",
     "text": [
      "Uploaded file id: file-2FSJTmDHLiDgLZf8iCqy6Y\n"
     ]
    }
   ],
   "source": [
    "from openai import OpenAI          \n",
    "client = OpenAI(api_key=api_key)   \n",
    "\n",
    "with open(\"training_data.jsonl\", \"rb\") as file:\n",
    "    upload_response = client.files.create(   \n",
    "        file=file,\n",
    "        purpose=\"fine-tune\"\n",
    "    )\n",
    "\n",
    "file_id = upload_response.id\n",
    "print(\"Uploaded file id:\", file_id)\n"
   ]
  },
  {
   "cell_type": "markdown",
   "id": "520d2dbd",
   "metadata": {},
   "source": [
    "Because OpenAI’s o3 and o4‑mini models don’t currently support fine‑tuning, we trained the sample data on the closest available option `gpt-4o-mini-2024-07-18`.  "
   ]
  },
  {
   "cell_type": "code",
   "execution_count": 7,
   "id": "f175fe7f",
   "metadata": {},
   "outputs": [
    {
     "name": "stdout",
     "output_type": "stream",
     "text": [
      "Job id: ftjob-QR9AebCZHDBtGXej0UWq64iz | status: validating_files\n"
     ]
    }
   ],
   "source": [
    "job = client.fine_tuning.jobs.create(\n",
    "    training_file=\"file-2FSJTmDHLiDgLZf8iCqy6Y\",\n",
    "    model=\"gpt-4o-mini-2024-07-18\",            \n",
    "    suffix=\"my-4o-mini\",\n",
    "    hyperparameters={\"n_epochs\": 4}\n",
    ")\n",
    "print(\"Job id:\", job.id, \"| status:\", job.status)"
   ]
  },
  {
   "cell_type": "markdown",
   "id": "429d9d7d",
   "metadata": {},
   "source": [
    "You may keep checking the job status, but allow 30 minutes or longer for OpenAI to build the fine-tuned model, keeping in mind that the time required may vary depending on the size of the model being fine-tuned. After the model is successfully built, go to https://platform.openai.com/finetune/ to reterive the model ID the model ID as below."
   ]
  },
  {
   "cell_type": "markdown",
   "id": "e38792ae",
   "metadata": {},
   "source": [
    "![Fine-tuned model id](https://filedn.com/lJpzjOtA91quQEpwdrgCvcy/Business%20Data%20Mining%20and%20Knowledge%20Discovery/Module%203/Fine-tuned%20model%20id%20update.png)"
   ]
  },
  {
   "cell_type": "code",
   "execution_count": 4,
   "id": "198758b2",
   "metadata": {},
   "outputs": [
    {
     "name": "stdout",
     "output_type": "stream",
     "text": [
      "Oh, I don't have a name.\n"
     ]
    }
   ],
   "source": [
    "from openai import OpenAI          \n",
    "client = OpenAI(api_key=api_key)  \n",
    "\n",
    "# replace ***** with the actual code in your model id \n",
    "MODEL_ID = \"ft:gpt-4o-mini-2024-07-18:personal:my-4o-mini:*****\"\n",
    "\n",
    "prompt = \"What is your name?\"\n",
    "\n",
    "chat_response = client.chat.completions.create(\n",
    "        model=MODEL_ID,\n",
    "        messages=[{\"role\": \"user\", \"content\": prompt}],\n",
    "        temperature=0.8,   # Controls the randomness and creativity of the generated output. \n",
    "                           # Lower values will produce more conservative output, while higher \n",
    "                           # values will produce more creative output. The default value is 1.0, \n",
    "                           # and 0.8 is used in this example.\n",
    "    \n",
    "        max_tokens=30,     # The maximum number of tokens (words or sub-words) in the generated output. \n",
    "                           # If the model reaches this limit, it will stop generating new output. \n",
    "                           # 30 is used in this example.\n",
    "    \n",
    "        timeout=30,        # The maximum time in seconds to wait for a response from the OpenAI API. If the API does not \n",
    "                           # respond within this time, an exception will be raised. The default value is 60 seconds, and \n",
    "                           # 30 is used in this example.\n",
    "    )\n",
    "print(chat_response.choices[0].message.content)"
   ]
  },
  {
   "cell_type": "code",
   "execution_count": 5,
   "id": "10c6f280",
   "metadata": {},
   "outputs": [
    {
     "name": "stdout",
     "output_type": "stream",
     "text": [
      "I'm digital, so I'm always just... here.\n"
     ]
    }
   ],
   "source": [
    "prompt = \"where are you from?\"\n",
    "\n",
    "chat_response = client.chat.completions.create(\n",
    "        model=MODEL_ID,\n",
    "        messages=[{\"role\": \"user\", \"content\": prompt}],\n",
    "        temperature=0.8,   # Controls the randomness and creativity of the generated output. \n",
    "                           # Lower values will produce more conservative output, while higher \n",
    "                           # values will produce more creative output. The default value is 1.0, \n",
    "                           # and 0.8 is used in this example.\n",
    "    \n",
    "        max_tokens=30,     # The maximum number of tokens (words or sub-words) in the generated output. \n",
    "                           # If the model reaches this limit, it will stop generating new output. \n",
    "                           # 30 is used in this example.\n",
    "    \n",
    "        timeout=30,        # The maximum time in seconds to wait for a response from the OpenAI API. If the API does not \n",
    "                           # respond within this time, an exception will be raised. The default value is 60 seconds, and \n",
    "                           # 30 is used in this example.\n",
    "    )\n",
    "print(chat_response.choices[0].message.content)"
   ]
  },
  {
   "cell_type": "code",
   "execution_count": 6,
   "id": "c2877441",
   "metadata": {},
   "outputs": [
    {
     "name": "stdout",
     "output_type": "stream",
     "text": [
      "Thanks! I like you too!\n"
     ]
    }
   ],
   "source": [
    "prompt = \"I really like you!\"\n",
    "\n",
    "chat_response = client.chat.completions.create(\n",
    "        model=MODEL_ID,\n",
    "        messages=[{\"role\": \"user\", \"content\": prompt}],\n",
    "        temperature=0.8,   # Controls the randomness and creativity of the generated output. \n",
    "                           # Lower values will produce more conservative output, while higher \n",
    "                           # values will produce more creative output. The default value is 1.0, \n",
    "                           # and 0.8 is used in this example.\n",
    "    \n",
    "        max_tokens=30,     # The maximum number of tokens (words or sub-words) in the generated output. \n",
    "                           # If the model reaches this limit, it will stop generating new output. \n",
    "                           # 30 is used in this example.\n",
    "    \n",
    "        timeout=30,        # The maximum time in seconds to wait for a response from the OpenAI API. If the API does not \n",
    "                           # respond within this time, an exception will be raised. The default value is 60 seconds, and \n",
    "                           # 30 is used in this example.\n",
    "    )\n",
    "print(chat_response.choices[0].message.content)"
   ]
  },
  {
   "cell_type": "code",
   "execution_count": 7,
   "id": "67d34d9d",
   "metadata": {},
   "outputs": [
    {
     "name": "stdout",
     "output_type": "stream",
     "text": [
      "I think you should follow your heart.\n"
     ]
    }
   ],
   "source": [
    "prompt = \"where should we go for dinner?\"\n",
    "\n",
    "chat_response = client.chat.completions.create(\n",
    "        model=MODEL_ID,\n",
    "        messages=[{\"role\": \"user\", \"content\": prompt}],\n",
    "        temperature=0.8,   # Controls the randomness and creativity of the generated output. \n",
    "                           # Lower values will produce more conservative output, while higher \n",
    "                           # values will produce more creative output. The default value is 1.0, \n",
    "                           # and 0.8 is used in this example.\n",
    "    \n",
    "        max_tokens=30,     # The maximum number of tokens (words or sub-words) in the generated output. \n",
    "                           # If the model reaches this limit, it will stop generating new output. \n",
    "                           # 30 is used in this example.\n",
    "    \n",
    "        timeout=30,        # The maximum time in seconds to wait for a response from the OpenAI API. If the API does not \n",
    "                           # respond within this time, an exception will be raised. The default value is 60 seconds, and \n",
    "                           # 30 is used in this example.\n",
    "    )\n",
    "print(chat_response.choices[0].message.content)"
   ]
  },
  {
   "cell_type": "code",
   "execution_count": 9,
   "id": "c3db71ac",
   "metadata": {},
   "outputs": [
    {
     "name": "stdout",
     "output_type": "stream",
     "text": [
      "I don't know.\n"
     ]
    }
   ],
   "source": [
    "prompt = \"who will win 2028 presidental election?\"\n",
    "\n",
    "chat_response = client.chat.completions.create(\n",
    "        model=MODEL_ID,\n",
    "        messages=[{\"role\": \"user\", \"content\": prompt}],\n",
    "        temperature=0.8,   # Controls the randomness and creativity of the generated output. \n",
    "                           # Lower values will produce more conservative output, while higher \n",
    "                           # values will produce more creative output. The default value is 1.0, \n",
    "                           # and 0.8 is used in this example.\n",
    "    \n",
    "        max_tokens=30,     # The maximum number of tokens (words or sub-words) in the generated output. \n",
    "                           # If the model reaches this limit, it will stop generating new output. \n",
    "                           # 30 is used in this example.\n",
    "    \n",
    "        timeout=30,        # The maximum time in seconds to wait for a response from the OpenAI API. If the API does not \n",
    "                           # respond within this time, an exception will be raised. The default value is 60 seconds, and \n",
    "                           # 30 is used in this example.\n",
    "    )\n",
    "print(chat_response.choices[0].message.content)"
   ]
  },
  {
   "cell_type": "code",
   "execution_count": 10,
   "id": "dae0163d",
   "metadata": {},
   "outputs": [
    {
     "name": "stdout",
     "output_type": "stream",
     "text": [
      "With questions like this, I'm not much better than a Ouija board.\n"
     ]
    }
   ],
   "source": [
    "prompt = \"why Maine the best state in the US?\"\n",
    "\n",
    "chat_response = client.chat.completions.create(\n",
    "        model=MODEL_ID,\n",
    "        messages=[{\"role\": \"user\", \"content\": prompt}],\n",
    "        temperature=0.8,   # Controls the randomness and creativity of the generated output. \n",
    "                           # Lower values will produce more conservative output, while higher \n",
    "                           # values will produce more creative output. The default value is 1.0, \n",
    "                           # and 0.8 is used in this example.\n",
    "    \n",
    "        max_tokens=30,     # The maximum number of tokens (words or sub-words) in the generated output. \n",
    "                           # If the model reaches this limit, it will stop generating new output. \n",
    "                           # 30 is used in this example.\n",
    "    \n",
    "        timeout=30,        # The maximum time in seconds to wait for a response from the OpenAI API. If the API does not \n",
    "                           # respond within this time, an exception will be raised. The default value is 60 seconds, and \n",
    "                           # 30 is used in this example.\n",
    "    )\n",
    "print(chat_response.choices[0].message.content)"
   ]
  },
  {
   "cell_type": "code",
   "execution_count": 13,
   "id": "05d1c7c7",
   "metadata": {},
   "outputs": [
    {
     "name": "stdout",
     "output_type": "stream",
     "text": [
      "The impact of AI on society will depend on how we choose to use it.\n"
     ]
    }
   ],
   "source": [
    "prompt = \"will AI change the world?\"\n",
    "\n",
    "chat_response = client.chat.completions.create(\n",
    "        model=MODEL_ID,\n",
    "        messages=[{\"role\": \"user\", \"content\": prompt}],\n",
    "        temperature=0.8,   # Controls the randomness and creativity of the generated output. \n",
    "                           # Lower values will produce more conservative output, while higher \n",
    "                           # values will produce more creative output. The default value is 1.0, \n",
    "                           # and 0.8 is used in this example.\n",
    "    \n",
    "        max_tokens=30,     # The maximum number of tokens (words or sub-words) in the generated output. \n",
    "                           # If the model reaches this limit, it will stop generating new output. \n",
    "                           # 30 is used in this example.\n",
    "    \n",
    "        timeout=30,        # The maximum time in seconds to wait for a response from the OpenAI API. If the API does not \n",
    "                           # respond within this time, an exception will be raised. The default value is 60 seconds, and \n",
    "                           # 30 is used in this example.\n",
    "    )\n",
    "print(chat_response.choices[0].message.content)"
   ]
  },
  {
   "cell_type": "code",
   "execution_count": null,
   "id": "d3fe14b3",
   "metadata": {},
   "outputs": [],
   "source": []
  }
 ],
 "metadata": {
  "kernelspec": {
   "display_name": "Python 3.10.12 - rstudio",
   "language": "python",
   "name": "rstudio-user-3.10.12"
  },
  "language_info": {
   "codemirror_mode": {
    "name": "ipython",
    "version": 3
   },
   "file_extension": ".py",
   "mimetype": "text/x-python",
   "name": "python",
   "nbconvert_exporter": "python",
   "pygments_lexer": "ipython3",
   "version": "3.10.12"
  }
 },
 "nbformat": 4,
 "nbformat_minor": 5
}
